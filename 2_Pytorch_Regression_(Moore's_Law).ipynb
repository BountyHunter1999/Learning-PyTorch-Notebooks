{
  "nbformat": 4,
  "nbformat_minor": 0,
  "metadata": {
    "colab": {
      "name": "2. Pytorch Regression (Moore's Law).ipynb",
      "provenance": [],
      "authorship_tag": "ABX9TyN20M96YjxJEjL734qAZzVU",
      "include_colab_link": true
    },
    "kernelspec": {
      "name": "python3",
      "display_name": "Python 3"
    },
    "language_info": {
      "name": "python"
    }
  },
  "cells": [
    {
      "cell_type": "markdown",
      "metadata": {
        "id": "view-in-github",
        "colab_type": "text"
      },
      "source": [
        "<a href=\"https://colab.research.google.com/github/BountyHunter1999/Learning-PyTorch-Notebooks/blob/main/2_Pytorch_Regression_(Moore's_Law).ipynb\" target=\"_parent\"><img src=\"https://colab.research.google.com/assets/colab-badge.svg\" alt=\"Open In Colab\"/></a>"
      ]
    },
    {
      "cell_type": "code",
      "execution_count": 1,
      "metadata": {
        "id": "AwEqgsLZIxo-"
      },
      "outputs": [],
      "source": [
        "import torch\n",
        "import torch.nn as nn\n",
        "import pandas as pd\n",
        "import numpy as np\n",
        "import matplotlib.pyplot as plt\n",
        "\n",
        "%matplotlib inline"
      ]
    },
    {
      "cell_type": "code",
      "source": [
        "# Get the Data\n",
        "!wget -nc  https://raw.githubusercontent.com/lazyprogrammer/machine_learning_examples/master/tf2.0/moore.csv"
      ],
      "metadata": {
        "colab": {
          "base_uri": "https://localhost:8080/"
        },
        "id": "od2G9S3HJED0",
        "outputId": "bc979536-21fc-4ef8-9b5c-136ec7479184"
      },
      "execution_count": 14,
      "outputs": [
        {
          "output_type": "stream",
          "name": "stdout",
          "text": [
            "--2022-02-01 16:46:31--  https://raw.githubusercontent.com/lazyprogrammer/machine_learning_examples/master/tf2.0/moore.csv\n",
            "Resolving raw.githubusercontent.com (raw.githubusercontent.com)... 185.199.110.133, 185.199.111.133, 185.199.109.133, ...\n",
            "Connecting to raw.githubusercontent.com (raw.githubusercontent.com)|185.199.110.133|:443... connected.\n",
            "HTTP request sent, awaiting response... 200 OK\n",
            "Length: 2302 (2.2K) [text/plain]\n",
            "Saving to: ‘moore.csv’\n",
            "\n",
            "\rmoore.csv             0%[                    ]       0  --.-KB/s               \rmoore.csv           100%[===================>]   2.25K  --.-KB/s    in 0s      \n",
            "\n",
            "2022-02-01 16:46:31 (43.7 MB/s) - ‘moore.csv’ saved [2302/2302]\n",
            "\n"
          ]
        }
      ]
    },
    {
      "cell_type": "code",
      "source": [
        "!head head moore.csv"
      ],
      "metadata": {
        "colab": {
          "base_uri": "https://localhost:8080/"
        },
        "id": "snHZ431wKCHV",
        "outputId": "c2d1e266-bf7c-4368-8df7-978487089baa"
      },
      "execution_count": 15,
      "outputs": [
        {
          "output_type": "stream",
          "name": "stdout",
          "text": [
            "head: cannot open 'head' for reading: No such file or directory\n",
            "==> moore.csv <==\n",
            "1971,2300\n",
            "1972,3500\n",
            "1973,2500\n",
            "1973,2500\n",
            "1974,4100\n",
            "1974,4500\n",
            "1974,8000\n",
            "1975,3510\n",
            "1976,5000\n",
            "1976,8500\n"
          ]
        }
      ]
    },
    {
      "cell_type": "code",
      "source": [
        "# Load in the data\n",
        "data = pd.read_csv('moore.csv', header=None)\n",
        "data.head()"
      ],
      "metadata": {
        "colab": {
          "base_uri": "https://localhost:8080/",
          "height": 206
        },
        "id": "37y8tiaGJNwU",
        "outputId": "f893507e-6e6c-489f-f4d2-af970b0a3290"
      },
      "execution_count": 20,
      "outputs": [
        {
          "output_type": "execute_result",
          "data": {
            "text/html": [
              "\n",
              "  <div id=\"df-90389b41-b4d8-436d-9ef0-f639583147e7\">\n",
              "    <div class=\"colab-df-container\">\n",
              "      <div>\n",
              "<style scoped>\n",
              "    .dataframe tbody tr th:only-of-type {\n",
              "        vertical-align: middle;\n",
              "    }\n",
              "\n",
              "    .dataframe tbody tr th {\n",
              "        vertical-align: top;\n",
              "    }\n",
              "\n",
              "    .dataframe thead th {\n",
              "        text-align: right;\n",
              "    }\n",
              "</style>\n",
              "<table border=\"1\" class=\"dataframe\">\n",
              "  <thead>\n",
              "    <tr style=\"text-align: right;\">\n",
              "      <th></th>\n",
              "      <th>0</th>\n",
              "      <th>1</th>\n",
              "    </tr>\n",
              "  </thead>\n",
              "  <tbody>\n",
              "    <tr>\n",
              "      <th>0</th>\n",
              "      <td>1971</td>\n",
              "      <td>2300</td>\n",
              "    </tr>\n",
              "    <tr>\n",
              "      <th>1</th>\n",
              "      <td>1972</td>\n",
              "      <td>3500</td>\n",
              "    </tr>\n",
              "    <tr>\n",
              "      <th>2</th>\n",
              "      <td>1973</td>\n",
              "      <td>2500</td>\n",
              "    </tr>\n",
              "    <tr>\n",
              "      <th>3</th>\n",
              "      <td>1973</td>\n",
              "      <td>2500</td>\n",
              "    </tr>\n",
              "    <tr>\n",
              "      <th>4</th>\n",
              "      <td>1974</td>\n",
              "      <td>4100</td>\n",
              "    </tr>\n",
              "  </tbody>\n",
              "</table>\n",
              "</div>\n",
              "      <button class=\"colab-df-convert\" onclick=\"convertToInteractive('df-90389b41-b4d8-436d-9ef0-f639583147e7')\"\n",
              "              title=\"Convert this dataframe to an interactive table.\"\n",
              "              style=\"display:none;\">\n",
              "        \n",
              "  <svg xmlns=\"http://www.w3.org/2000/svg\" height=\"24px\"viewBox=\"0 0 24 24\"\n",
              "       width=\"24px\">\n",
              "    <path d=\"M0 0h24v24H0V0z\" fill=\"none\"/>\n",
              "    <path d=\"M18.56 5.44l.94 2.06.94-2.06 2.06-.94-2.06-.94-.94-2.06-.94 2.06-2.06.94zm-11 1L8.5 8.5l.94-2.06 2.06-.94-2.06-.94L8.5 2.5l-.94 2.06-2.06.94zm10 10l.94 2.06.94-2.06 2.06-.94-2.06-.94-.94-2.06-.94 2.06-2.06.94z\"/><path d=\"M17.41 7.96l-1.37-1.37c-.4-.4-.92-.59-1.43-.59-.52 0-1.04.2-1.43.59L10.3 9.45l-7.72 7.72c-.78.78-.78 2.05 0 2.83L4 21.41c.39.39.9.59 1.41.59.51 0 1.02-.2 1.41-.59l7.78-7.78 2.81-2.81c.8-.78.8-2.07 0-2.86zM5.41 20L4 18.59l7.72-7.72 1.47 1.35L5.41 20z\"/>\n",
              "  </svg>\n",
              "      </button>\n",
              "      \n",
              "  <style>\n",
              "    .colab-df-container {\n",
              "      display:flex;\n",
              "      flex-wrap:wrap;\n",
              "      gap: 12px;\n",
              "    }\n",
              "\n",
              "    .colab-df-convert {\n",
              "      background-color: #E8F0FE;\n",
              "      border: none;\n",
              "      border-radius: 50%;\n",
              "      cursor: pointer;\n",
              "      display: none;\n",
              "      fill: #1967D2;\n",
              "      height: 32px;\n",
              "      padding: 0 0 0 0;\n",
              "      width: 32px;\n",
              "    }\n",
              "\n",
              "    .colab-df-convert:hover {\n",
              "      background-color: #E2EBFA;\n",
              "      box-shadow: 0px 1px 2px rgba(60, 64, 67, 0.3), 0px 1px 3px 1px rgba(60, 64, 67, 0.15);\n",
              "      fill: #174EA6;\n",
              "    }\n",
              "\n",
              "    [theme=dark] .colab-df-convert {\n",
              "      background-color: #3B4455;\n",
              "      fill: #D2E3FC;\n",
              "    }\n",
              "\n",
              "    [theme=dark] .colab-df-convert:hover {\n",
              "      background-color: #434B5C;\n",
              "      box-shadow: 0px 1px 3px 1px rgba(0, 0, 0, 0.15);\n",
              "      filter: drop-shadow(0px 1px 2px rgba(0, 0, 0, 0.3));\n",
              "      fill: #FFFFFF;\n",
              "    }\n",
              "  </style>\n",
              "\n",
              "      <script>\n",
              "        const buttonEl =\n",
              "          document.querySelector('#df-90389b41-b4d8-436d-9ef0-f639583147e7 button.colab-df-convert');\n",
              "        buttonEl.style.display =\n",
              "          google.colab.kernel.accessAllowed ? 'block' : 'none';\n",
              "\n",
              "        async function convertToInteractive(key) {\n",
              "          const element = document.querySelector('#df-90389b41-b4d8-436d-9ef0-f639583147e7');\n",
              "          const dataTable =\n",
              "            await google.colab.kernel.invokeFunction('convertToInteractive',\n",
              "                                                     [key], {});\n",
              "          if (!dataTable) return;\n",
              "\n",
              "          const docLinkHtml = 'Like what you see? Visit the ' +\n",
              "            '<a target=\"_blank\" href=https://colab.research.google.com/notebooks/data_table.ipynb>data table notebook</a>'\n",
              "            + ' to learn more about interactive tables.';\n",
              "          element.innerHTML = '';\n",
              "          dataTable['output_type'] = 'display_data';\n",
              "          await google.colab.output.renderOutput(dataTable, element);\n",
              "          const docLink = document.createElement('div');\n",
              "          docLink.innerHTML = docLinkHtml;\n",
              "          element.appendChild(docLink);\n",
              "        }\n",
              "      </script>\n",
              "    </div>\n",
              "  </div>\n",
              "  "
            ],
            "text/plain": [
              "      0     1\n",
              "0  1971  2300\n",
              "1  1972  3500\n",
              "2  1973  2500\n",
              "3  1973  2500\n",
              "4  1974  4100"
            ]
          },
          "metadata": {},
          "execution_count": 20
        }
      ]
    },
    {
      "cell_type": "code",
      "source": [
        "data = data.values\n",
        "data[:5]"
      ],
      "metadata": {
        "colab": {
          "base_uri": "https://localhost:8080/"
        },
        "id": "dJw-VclrJzrt",
        "outputId": "bcd0227a-6261-4e83-fc9f-c5e94abe8a03"
      },
      "execution_count": 21,
      "outputs": [
        {
          "output_type": "execute_result",
          "data": {
            "text/plain": [
              "array([[1971, 2300],\n",
              "       [1972, 3500],\n",
              "       [1973, 2500],\n",
              "       [1973, 2500],\n",
              "       [1974, 4100]])"
            ]
          },
          "metadata": {},
          "execution_count": 21
        }
      ]
    },
    {
      "cell_type": "code",
      "source": [
        "data[:, 0].shape"
      ],
      "metadata": {
        "colab": {
          "base_uri": "https://localhost:8080/"
        },
        "id": "GpHwZm1QL2Sl",
        "outputId": "749ce3cf-af67-4e00-abb9-3265c0c47de2"
      },
      "execution_count": 22,
      "outputs": [
        {
          "output_type": "execute_result",
          "data": {
            "text/plain": [
              "(162,)"
            ]
          },
          "metadata": {},
          "execution_count": 22
        }
      ]
    },
    {
      "cell_type": "code",
      "source": [
        "data[:, 0].reshape(-1, 1).shape # all rows but a column dimension added"
      ],
      "metadata": {
        "colab": {
          "base_uri": "https://localhost:8080/"
        },
        "id": "SQn25WJwL5n7",
        "outputId": "d9382450-c10f-4455-9697-4112016073de"
      },
      "execution_count": 23,
      "outputs": [
        {
          "output_type": "execute_result",
          "data": {
            "text/plain": [
              "(162, 1)"
            ]
          },
          "metadata": {},
          "execution_count": 23
        }
      ]
    },
    {
      "cell_type": "code",
      "source": [
        "X = data[:, 0].reshape(-1, 1) #make it a 2D array of size N X D where D = 1\n",
        "Y = data[:, 1].reshape(-1, 1)"
      ],
      "metadata": {
        "id": "oSynR8obKp8N"
      },
      "execution_count": 24,
      "outputs": []
    },
    {
      "cell_type": "code",
      "source": [
        "# Plot the data - it is exponential:\n",
        "plt.scatter(X, Y)"
      ],
      "metadata": {
        "colab": {
          "base_uri": "https://localhost:8080/",
          "height": 293
        },
        "id": "Re-ch-QPK_cN",
        "outputId": "1758514a-af91-48be-961c-c963c7ed2efb"
      },
      "execution_count": 26,
      "outputs": [
        {
          "output_type": "execute_result",
          "data": {
            "text/plain": [
              "<matplotlib.collections.PathCollection at 0x7f3b34ac4d50>"
            ]
          },
          "metadata": {},
          "execution_count": 26
        },
        {
          "output_type": "display_data",
          "data": {
            "image/png": "[encoded data removed]",
            "text/plain": [
              "<Figure size 432x288 with 1 Axes>"
            ]
          },
          "metadata": {
            "needs_background": "light"
          }
        }
      ]
    },
    {
      "cell_type": "markdown",
      "source": [
        "- C = C0 * r^t \n",
        "- logC =  t * logr + logC0 \n",
        "- Y = X * a + b\n",
        "\n",
        "**Linear in terms of time**"
      ],
      "metadata": {
        "id": "9yb622fsMvrA"
      }
    },
    {
      "cell_type": "code",
      "source": [
        "# Since we want a linear model, let's take the log\n",
        "Y = np.log(Y)\n",
        "plt.scatter(X, Y);\n",
        "# this is now linear "
      ],
      "metadata": {
        "colab": {
          "base_uri": "https://localhost:8080/",
          "height": 265
        },
        "id": "xmK4-NBbMMG9",
        "outputId": "5d91068f-eaf6-4d19-dd4c-d082d9ac7c90"
      },
      "execution_count": 27,
      "outputs": [
        {
          "output_type": "display_data",
          "data": {
            "image/png": "[encoded data removed]",
            "text/plain": [
              "<Figure size 432x288 with 1 Axes>"
            ]
          },
          "metadata": {
            "needs_background": "light"
          }
        }
      ]
    },
    {
      "cell_type": "code",
      "source": [
        "# Scale and center both the x and y axes\n",
        "mx = X.mean()\n",
        "sx = X.std()\n",
        "my = Y.mean()\n",
        "sy = Y.std()\n",
        "\n",
        "X = (X - mx)/sx  # Normalization\n",
        "Y = (Y - my)/sy"
      ],
      "metadata": {
        "id": "hvQcciumMocM"
      },
      "execution_count": 28,
      "outputs": []
    },
    {
      "cell_type": "code",
      "source": [
        "# Everything is centered around 0 and in a small range\n",
        "plt.scatter(X, Y);"
      ],
      "metadata": {
        "colab": {
          "base_uri": "https://localhost:8080/",
          "height": 265
        },
        "id": "5bfmlzZENzIf",
        "outputId": "eb2cae8f-5283-4d35-f930-6c5fe14f45ea"
      },
      "execution_count": 29,
      "outputs": [
        {
          "output_type": "display_data",
          "data": {
            "image/png": "[encoded data removed]",
            "text/plain": [
              "<Figure size 432x288 with 1 Axes>"
            ]
          },
          "metadata": {
            "needs_background": "light"
          }
        }
      ]
    },
    {
      "cell_type": "code",
      "source": [
        "# Cast to float32\n",
        "X = X.astype(np.float32)\n",
        "Y = Y.astype(np.float32)"
      ],
      "metadata": {
        "id": "XJU0DyrTN5ML"
      },
      "execution_count": 30,
      "outputs": []
    },
    {
      "cell_type": "code",
      "source": [
        "# Create the linear regression model\n",
        "model = nn.Linear(1, 1)"
      ],
      "metadata": {
        "id": "tnW_p6QoOUGt"
      },
      "execution_count": 32,
      "outputs": []
    },
    {
      "cell_type": "code",
      "source": [
        "# Loss and optimizer\n",
        "criterion = nn.MSELoss()\n",
        "optimizer = torch.optim.SGD(model.parameters(), lr=0.01, momentum=0.7)"
      ],
      "metadata": {
        "id": "uRUQVfS0OZIW"
      },
      "execution_count": 34,
      "outputs": []
    },
    {
      "cell_type": "code",
      "source": [
        "inputs = torch.from_numpy(X)\n",
        "targets = torch.from_numpy(Y)"
      ],
      "metadata": {
        "id": "JgAWGRmGOots"
      },
      "execution_count": 35,
      "outputs": []
    },
    {
      "cell_type": "code",
      "source": [
        "type(inputs)"
      ],
      "metadata": {
        "colab": {
          "base_uri": "https://localhost:8080/"
        },
        "id": "CzPO04csOwcO",
        "outputId": "ce759b24-3083-4429-cf3b-645ca9a4c19e"
      },
      "execution_count": 36,
      "outputs": [
        {
          "output_type": "execute_result",
          "data": {
            "text/plain": [
              "torch.Tensor"
            ]
          },
          "metadata": {},
          "execution_count": 36
        }
      ]
    },
    {
      "cell_type": "code",
      "source": [
        "# Train the model\n",
        "n_epochs = 100\n",
        "losses = []\n",
        "for it in range(n_epochs):\n",
        "  # Zero the gradient\n",
        "  optimizer.zero_grad()\n",
        "\n",
        "  # forward pass\n",
        "  outputs = model(inputs)\n",
        "  loss = criterion(outputs, targets)\n",
        "\n",
        "  # save the loss\n",
        "  losses.append(loss.item())\n",
        "\n",
        "  # backward and optimize\n",
        "  loss.backward()\n",
        "  optimizer.step() \n",
        "\n",
        "  print(f\"Epoch {it + 1}/ {n_epochs}, Loss: {loss.item()}\")  "
      ],
      "metadata": {
        "colab": {
          "base_uri": "https://localhost:8080/"
        },
        "id": "aAA-5PiVPLuK",
        "outputId": "5828e2e2-e9d6-4831-ce73-d9bef6779d19"
      },
      "execution_count": 39,
      "outputs": [
        {
          "output_type": "stream",
          "name": "stdout",
          "text": [
            "Epoch 1/ 100, Loss: 1.3630398511886597\n",
            "Epoch 2/ 100, Loss: 1.3105874061584473\n",
            "Epoch 3/ 100, Loss: 1.224852442741394\n",
            "Epoch 4/ 100, Loss: 1.1208165884017944\n",
            "Epoch 5/ 100, Loss: 1.0093941688537598\n",
            "Epoch 6/ 100, Loss: 0.8980681896209717\n",
            "Epoch 7/ 100, Loss: 0.7916436195373535\n",
            "Epoch 8/ 100, Loss: 0.6929450631141663\n",
            "Epoch 9/ 100, Loss: 0.6033952236175537\n",
            "Epoch 10/ 100, Loss: 0.523465633392334\n",
            "Epoch 11/ 100, Loss: 0.453011691570282\n",
            "Epoch 12/ 100, Loss: 0.3915145993232727\n",
            "Epoch 13/ 100, Loss: 0.33824920654296875\n",
            "Epoch 14/ 100, Loss: 0.2923981547355652\n",
            "Epoch 15/ 100, Loss: 0.2531256079673767\n",
            "Epoch 16/ 100, Loss: 0.21962356567382812\n",
            "Epoch 17/ 100, Loss: 0.1911383718252182\n",
            "Epoch 18/ 100, Loss: 0.1669841706752777\n",
            "Epoch 19/ 100, Loss: 0.14654801785945892\n",
            "Epoch 20/ 100, Loss: 0.12928931415081024\n",
            "Epoch 21/ 100, Loss: 0.1147361546754837\n",
            "Epoch 22/ 100, Loss: 0.10247980803251266\n",
            "Epoch 23/ 100, Loss: 0.09216854721307755\n",
            "Epoch 24/ 100, Loss: 0.08350120484828949\n",
            "Epoch 25/ 100, Loss: 0.07622093707323074\n",
            "Epoch 26/ 100, Loss: 0.07010943442583084\n",
            "Epoch 27/ 100, Loss: 0.06498166173696518\n",
            "Epoch 28/ 100, Loss: 0.06068103015422821\n",
            "Epoch 29/ 100, Loss: 0.0570753812789917\n",
            "Epoch 30/ 100, Loss: 0.05405328422784805\n",
            "Epoch 31/ 100, Loss: 0.051520925015211105\n",
            "Epoch 32/ 100, Loss: 0.04939935356378555\n",
            "Epoch 33/ 100, Loss: 0.04762224853038788\n",
            "Epoch 34/ 100, Loss: 0.0461338646709919\n",
            "Epoch 35/ 100, Loss: 0.044887471944093704\n",
            "Epoch 36/ 100, Loss: 0.043843820691108704\n",
            "Epoch 37/ 100, Loss: 0.04296999052166939\n",
            "Epoch 38/ 100, Loss: 0.04223841056227684\n",
            "Epoch 39/ 100, Loss: 0.04162595048546791\n",
            "Epoch 40/ 100, Loss: 0.04111324995756149\n",
            "Epoch 41/ 100, Loss: 0.04068406671285629\n",
            "Epoch 42/ 100, Loss: 0.040324822068214417\n",
            "Epoch 43/ 100, Loss: 0.04002411663532257\n",
            "Epoch 44/ 100, Loss: 0.03977242112159729\n",
            "Epoch 45/ 100, Loss: 0.039561741054058075\n",
            "Epoch 46/ 100, Loss: 0.03938540816307068\n",
            "Epoch 47/ 100, Loss: 0.03923782333731651\n",
            "Epoch 48/ 100, Loss: 0.03911430016160011\n",
            "Epoch 49/ 100, Loss: 0.0390109121799469\n",
            "Epoch 50/ 100, Loss: 0.03892438858747482\n",
            "Epoch 51/ 100, Loss: 0.038851965218782425\n",
            "Epoch 52/ 100, Loss: 0.03879135474562645\n",
            "Epoch 53/ 100, Loss: 0.038740627467632294\n",
            "Epoch 54/ 100, Loss: 0.038698162883520126\n",
            "Epoch 55/ 100, Loss: 0.038662634789943695\n",
            "Epoch 56/ 100, Loss: 0.038632895797491074\n",
            "Epoch 57/ 100, Loss: 0.03860801085829735\n",
            "Epoch 58/ 100, Loss: 0.03858717903494835\n",
            "Epoch 59/ 100, Loss: 0.03856974467635155\n",
            "Epoch 60/ 100, Loss: 0.03855515271425247\n",
            "Epoch 61/ 100, Loss: 0.03854294493794441\n",
            "Epoch 62/ 100, Loss: 0.03853272274136543\n",
            "Epoch 63/ 100, Loss: 0.038524169474840164\n",
            "Epoch 64/ 100, Loss: 0.03851701691746712\n",
            "Epoch 65/ 100, Loss: 0.038511015474796295\n",
            "Epoch 66/ 100, Loss: 0.038506004959344864\n",
            "Epoch 67/ 100, Loss: 0.038501810282468796\n",
            "Epoch 68/ 100, Loss: 0.038498301059007645\n",
            "Epoch 69/ 100, Loss: 0.03849535435438156\n",
            "Epoch 70/ 100, Loss: 0.038492899388074875\n",
            "Epoch 71/ 100, Loss: 0.03849083557724953\n",
            "Epoch 72/ 100, Loss: 0.03848911449313164\n",
            "Epoch 73/ 100, Loss: 0.03848767653107643\n",
            "Epoch 74/ 100, Loss: 0.03848646953701973\n",
            "Epoch 75/ 100, Loss: 0.03848545253276825\n",
            "Epoch 76/ 100, Loss: 0.0384846068918705\n",
            "Epoch 77/ 100, Loss: 0.03848389908671379\n",
            "Epoch 78/ 100, Loss: 0.03848331794142723\n",
            "Epoch 79/ 100, Loss: 0.03848281502723694\n",
            "Epoch 80/ 100, Loss: 0.03848239779472351\n",
            "Epoch 81/ 100, Loss: 0.03848205506801605\n",
            "Epoch 82/ 100, Loss: 0.038481757044792175\n",
            "Epoch 83/ 100, Loss: 0.03848152235150337\n",
            "Epoch 84/ 100, Loss: 0.03848131746053696\n",
            "Epoch 85/ 100, Loss: 0.03848114609718323\n",
            "Epoch 86/ 100, Loss: 0.038481004536151886\n",
            "Epoch 87/ 100, Loss: 0.03848087787628174\n",
            "Epoch 88/ 100, Loss: 0.03848078474402428\n",
            "Epoch 89/ 100, Loss: 0.03848069906234741\n",
            "Epoch 90/ 100, Loss: 0.03848062828183174\n",
            "Epoch 91/ 100, Loss: 0.038480568677186966\n",
            "Epoch 92/ 100, Loss: 0.038480523973703384\n",
            "Epoch 93/ 100, Loss: 0.0384804829955101\n",
            "Epoch 94/ 100, Loss: 0.038480453193187714\n",
            "Epoch 95/ 100, Loss: 0.03848041594028473\n",
            "Epoch 96/ 100, Loss: 0.03848039358854294\n",
            "Epoch 97/ 100, Loss: 0.038480374962091446\n",
            "Epoch 98/ 100, Loss: 0.03848036006093025\n",
            "Epoch 99/ 100, Loss: 0.03848034888505936\n",
            "Epoch 100/ 100, Loss: 0.03848034143447876\n"
          ]
        }
      ]
    },
    {
      "cell_type": "code",
      "source": [
        "# Loss per iteration\n",
        "plt.plot(losses)"
      ],
      "metadata": {
        "colab": {
          "base_uri": "https://localhost:8080/",
          "height": 282
        },
        "id": "rHQj2kchQT_e",
        "outputId": "08d3d511-3991-40b5-b30d-b33d8d1bb850"
      },
      "execution_count": 40,
      "outputs": [
        {
          "output_type": "execute_result",
          "data": {
            "text/plain": [
              "[<matplotlib.lines.Line2D at 0x7f3b3413e390>]"
            ]
          },
          "metadata": {},
          "execution_count": 40
        },
        {
          "output_type": "display_data",
          "data": {
            "image/png": "[encoded data removed]",
            "text/plain": [
              "<Figure size 432x288 with 1 Axes>"
            ]
          },
          "metadata": {
            "needs_background": "light"
          }
        }
      ]
    },
    {
      "cell_type": "code",
      "source": [
        "# Plot the graph\n",
        "predicted = model(torch.from_numpy(X)).detach().numpy()\n",
        "plt.plot(X, Y, 'ro', label='Original Data')\n",
        "plt.plot(X, predicted, label='Fitted line')\n",
        "plt.legend()\n",
        "plt.show()"
      ],
      "metadata": {
        "colab": {
          "base_uri": "https://localhost:8080/",
          "height": 265
        },
        "id": "jX7ZvVv-QbDU",
        "outputId": "851d2f7b-2de1-4cfe-d07a-f03f08e59288"
      },
      "execution_count": 41,
      "outputs": [
        {
          "output_type": "display_data",
          "data": {
            "image/png": "[encoded data removed]",
            "text/plain": [
              "<Figure size 432x288 with 1 Axes>"
            ]
          },
          "metadata": {
            "needs_background": "light"
          }
        }
      ]
    },
    {
      "cell_type": "code",
      "source": [
        "# What does this mean?\n",
        "w = model.weight.data.numpy()\n",
        "print(w) # this is logr"
      ],
      "metadata": {
        "colab": {
          "base_uri": "https://localhost:8080/"
        },
        "id": "5yKstuI9Q7UO",
        "outputId": "b190f4f5-0f9c-42af-b919-a1626f148ea6"
      },
      "execution_count": 42,
      "outputs": [
        {
          "output_type": "stream",
          "name": "stdout",
          "text": [
            "[[0.9803516]]\n"
          ]
        }
      ]
    },
    {
      "cell_type": "markdown",
      "source": [
        "# Transforming back to original scale\n",
        "\n",
        "Our original hypothesis is that the growth is exponential. This has the form:\n",
        "\n",
        "$$ C = C_0 r ^ t $$\n",
        "\n",
        "In this equation, $C$ is the transistor count, $t$ is the year, $C_0$ is the original transistor count at year $0$, and $r$ is the rate of growth.\n",
        "\n",
        "We made this equation linear by taking the log of both sides.\n",
        "\n",
        "$$ \\log C = \\log C_0 + \\log r * t $$\n",
        "\n",
        "Here, $\\log C$ represents the variable that goes along the y-axis, and $t$ represents the variable that goes along the x-axis.\n",
        "\n",
        "In other words, under our hypothesized model, the log of transistor counts is linear with respect to time.\n",
        "\n",
        "Let us rename the variables to a more familiar form:\n",
        "\n",
        "$$ y = a x + \\log C_0 $$\n",
        "\n",
        "Now $y=\\log C$ represents the log of transistor counts and $x=t$ represents time. $a = \\log r$ is the slope and $\\log C_0$ is the y-intercept.\n",
        "\n",
        "# Our Model\n",
        "\n",
        "We normalized the data as follows:\n",
        "\n",
        "$$ y' = \\frac{y - m_y}{s_y} $$\n",
        "\n",
        "$$ x' = \\frac{x - m_x}{s_x} $$\n",
        "\n",
        "Here, $m_x$ represents the sample mean of the $x$ data and $s_x$ represens the sample standard deviation of the $x$ data, with analogous definitions for $m_y$ and $s_y$.\n",
        "\n",
        "Our model looks like:\n",
        "\n",
        "$$ y' = wx' + b $$\n",
        "\n",
        "We can recover the original model by substituting $x'$ and $y'$ with corresponding expressions in terms of $x$ and $y$.\n",
        "\n",
        "$$ \\frac{y - m_y}{s_y} = w \\frac{x - m_x}{s_x} + b $$\n",
        "\n",
        "After some algebraic manipulation (try it yourself, it's only high school math), we get:\n",
        "\n",
        "$$ y = w \\frac{s_y}{s_x} x - w \\frac{s_y}{s_x} m_x + b s_y + m_y = a x + \\log C_0 $$\n",
        "\n",
        "It is clear that the coefficient in front of $x$ represents our original $a$, and the sum of all the other terms represents $\\log C_0$.\n",
        "\n",
        "We are only interested in the doubling time, so we have found that:\n",
        "\n",
        "$$ a = w \\frac{s_y}{s_x} $$"
      ],
      "metadata": {
        "id": "XZfv7TDYSURx"
      }
    },
    {
      "cell_type": "code",
      "source": [
        "# to get r, which is interms of log\n",
        "a = w[0, 0] * sy/ sx\n",
        "a"
      ],
      "metadata": {
        "colab": {
          "base_uri": "https://localhost:8080/"
        },
        "id": "ZLQjxcDvRW7j",
        "outputId": "d8291139-8e06-499d-a07c-638b7a93e2ea"
      },
      "execution_count": 48,
      "outputs": [
        {
          "output_type": "execute_result",
          "data": {
            "text/plain": [
              "0.3416060033784324"
            ]
          },
          "metadata": {},
          "execution_count": 48
        }
      ]
    },
    {
      "cell_type": "markdown",
      "source": [
        "# Exponential Growth Model\n",
        "\n",
        "Our equation is currently linear. We still need to find the doubling time.\n",
        "\n",
        "Our original model for exponential growth is:\n",
        "\n",
        "$$ C = C_0 r^t $$\n",
        "\n",
        "Where $ C $ is transistor the count and $ t $ is the year.\n",
        "\n",
        "$ r $ is the rate of growth. For example, when $ t $ goes from 1 to 2, $ C $ increases by a factor of $ r $. When $ t $ goes from 2 to 3, $ C $ increases by a factor of $ r $ again.\n",
        "\n",
        "When we take the log of both sides, we get:\n",
        "\n",
        "$$ \\log C = \\log r * t + \\log C_0 $$\n",
        "\n",
        "This is our linear equation:\n",
        "\n",
        "$$ y = ax + \\log C_0 $$\n",
        "\n",
        "Where:\n",
        "\n",
        "$$ y = \\log C $$\n",
        "$$ a = \\log r $$\n",
        "$$ x = t $$\n",
        "\n",
        "We are interested in $ r $, because that's the rate of growth. Given our regression weights, we know that:\n",
        "\n",
        "$$ a = 0.341659983 $$\n",
        "\n",
        "so that:\n",
        "\n",
        "$$ r = e^{0.341659983} = 1.40728 $$\n",
        "\n",
        "To find the time it takes for transistor count to double, we simply need to find the amount of time it takes for $ C $ to increase to $ 2C $.\n",
        "\n",
        "Let's call the original starting time $ t $, to correspond with the initial transistor count $ C $.\n",
        "\n",
        "Let's call the end time $ t' $, to correspond with the final transistor count $ 2C $.\n",
        "\n",
        "Then we also have:\n",
        "\n",
        "$$ 2C = C_0 r ^ {t'} $$\n",
        "\n",
        "Combine this with our original equation:\n",
        "\n",
        "$$ C = C_0 r^t $$\n",
        "\n",
        "We get (by dividing the 2 equations):\n",
        "\n",
        "$$ 2C/C = (C_0 r ^ {t'}) / C_0 r^t $$\n",
        "\n",
        "Which simplifies to:\n",
        "\n",
        "$$ 2 = r^{(t' - t)} $$\n",
        "\n",
        "Solve for $ t' - t $:\n",
        "\n",
        "$$ t' - t = \\frac{\\log 2}{\\log r} = \\frac{\\log2}{a}$$\n",
        "\n",
        "\n",
        "Important note! We haven't specified what the starting time $ t $ actually is, and we don't have to since we just proved that this holds for any $ t $."
      ],
      "metadata": {
        "id": "vAZmFOq0TtM0"
      }
    },
    {
      "cell_type": "code",
      "source": [
        "np.exp(a) # doubles "
      ],
      "metadata": {
        "colab": {
          "base_uri": "https://localhost:8080/"
        },
        "id": "TQnRfKYKReX_",
        "outputId": "fccb3cb7-5325-4887-e44a-0b5869df1b82"
      },
      "execution_count": 50,
      "outputs": [
        {
          "output_type": "execute_result",
          "data": {
            "text/plain": [
              "1.4072057539642213"
            ]
          },
          "metadata": {},
          "execution_count": 50
        }
      ]
    },
    {
      "cell_type": "code",
      "source": [
        "print(\"Time to double:\", np.log(2) / a)"
      ],
      "metadata": {
        "colab": {
          "base_uri": "https://localhost:8080/"
        },
        "id": "8jK4Ga0yS-ft",
        "outputId": "0ec1806c-9e82-41ec-dbed-89f6d51567b2"
      },
      "execution_count": 51,
      "outputs": [
        {
          "output_type": "stream",
          "name": "stdout",
          "text": [
            "Time to double: 2.02908372131878\n"
          ]
        }
      ]
    },
    {
      "cell_type": "markdown",
      "source": [
        "What happens when you don't normalize the data? <br>\n",
        "- There is a chance of getting misleading results. Some true values will be considered as outliers during the processing. If you don't normalize your data, then the convergence will be slower. Your training time will be more compared to training using normalized data.\n",
        "\n",
        "But what happens to the optimization? Can you use the same learning rate as we did originally?\n",
        "- nop"
      ],
      "metadata": {
        "id": "PhSkyg2yUZV5"
      }
    }
  ]
}