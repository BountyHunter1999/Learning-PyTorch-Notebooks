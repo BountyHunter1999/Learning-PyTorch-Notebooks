{
  "nbformat": 4,
  "nbformat_minor": 0,
  "metadata": {
    "colab": {
      "name": "3. Linear Classification.ipynb",
      "provenance": [],
      "authorship_tag": "ABX9TyMVKIe5d9PblV+mUNHfn2wP",
      "include_colab_link": true
    },
    "kernelspec": {
      "name": "python3",
      "display_name": "Python 3"
    },
    "language_info": {
      "name": "python"
    }
  },
  "cells": [
    {
      "cell_type": "markdown",
      "metadata": {
        "id": "view-in-github",
        "colab_type": "text"
      },
      "source": [
        "<a href=\"https://colab.research.google.com/github/BountyHunter1999/Learning-PyTorch-Notebooks/blob/main/3_Linear_Classification.ipynb\" target=\"_parent\"><img src=\"https://colab.research.google.com/assets/colab-badge.svg\" alt=\"Open In Colab\"/></a>"
      ]
    },
    {
      "cell_type": "code",
      "execution_count": 1,
      "metadata": {
        "id": "-k73RoNrEQKl"
      },
      "outputs": [],
      "source": [
        "import torch\n",
        "import torch.nn as nn\n",
        "import numpy as np\n",
        "import matplotlib.pyplot as plt\n",
        "\n",
        "%matplotlib inline"
      ]
    },
    {
      "cell_type": "markdown",
      "source": [
        "# 1) Load in the data\n",
        "\n",
        "### our goal with the data:\n",
        "- to predict whether a patient's diagnosis of breast tissue is malignant or benign"
      ],
      "metadata": {
        "id": "R1exrBFhGFYx"
      }
    },
    {
      "cell_type": "code",
      "source": [
        "from sklearn.datasets import load_breast_cancer"
      ],
      "metadata": {
        "id": "D5oCemgRGHWP"
      },
      "execution_count": 2,
      "outputs": []
    },
    {
      "cell_type": "code",
      "source": [
        "# load the data\n",
        "data = load_breast_cancer()"
      ],
      "metadata": {
        "id": "k1dK-9dc_bP1"
      },
      "execution_count": 3,
      "outputs": []
    },
    {
      "cell_type": "code",
      "source": [
        "# check the type of `data`\n",
        "type(data) "
      ],
      "metadata": {
        "colab": {
          "base_uri": "https://localhost:8080/"
        },
        "id": "CLVymikA_gw8",
        "outputId": "833f3ada-a777-48b8-f203-c5550003186a"
      },
      "execution_count": 4,
      "outputs": [
        {
          "output_type": "execute_result",
          "data": {
            "text/plain": [
              "sklearn.utils.Bunch"
            ]
          },
          "metadata": {},
          "execution_count": 4
        }
      ]
    },
    {
      "cell_type": "code",
      "source": [
        "# note: it is a Bunch object\n",
        "# this basically acts like a dictionary where you can trat the keys like attributes\n",
        "data.keys()"
      ],
      "metadata": {
        "colab": {
          "base_uri": "https://localhost:8080/"
        },
        "id": "nzD8FyGq_oku",
        "outputId": "51fde365-8e6a-410a-c03e-2428bd6e9421"
      },
      "execution_count": 5,
      "outputs": [
        {
          "output_type": "execute_result",
          "data": {
            "text/plain": [
              "dict_keys(['data', 'target', 'frame', 'target_names', 'DESCR', 'feature_names', 'filename', 'data_module'])"
            ]
          },
          "metadata": {},
          "execution_count": 5
        }
      ]
    },
    {
      "cell_type": "code",
      "source": [
        "# 'data' (the attribute) means the input data\n",
        "data.data.shape\n",
        "# it has 569 samples, 30 features"
      ],
      "metadata": {
        "colab": {
          "base_uri": "https://localhost:8080/"
        },
        "id": "ySwvpUtYAJHB",
        "outputId": "d0929061-87c5-497e-d3a3-0a6b24fcb408"
      },
      "execution_count": 6,
      "outputs": [
        {
          "output_type": "execute_result",
          "data": {
            "text/plain": [
              "(569, 30)"
            ]
          },
          "metadata": {},
          "execution_count": 6
        }
      ]
    },
    {
      "cell_type": "code",
      "source": [
        "# targets\n",
        "data.target\n",
        "# now how the targests are just 0s and 1s\n",
        "# normally, when you have K targets, they are labeled 0..K-1"
      ],
      "metadata": {
        "colab": {
          "base_uri": "https://localhost:8080/"
        },
        "id": "kjh462OBAZJz",
        "outputId": "a0fcab6d-7d98-4c9e-f380-7ddd598a71b7"
      },
      "execution_count": 7,
      "outputs": [
        {
          "output_type": "execute_result",
          "data": {
            "text/plain": [
              "array([0, 0, 0, 0, 0, 0, 0, 0, 0, 0, 0, 0, 0, 0, 0, 0, 0, 0, 0, 1, 1, 1,\n",
              "       0, 0, 0, 0, 0, 0, 0, 0, 0, 0, 0, 0, 0, 0, 0, 1, 0, 0, 0, 0, 0, 0,\n",
              "       0, 0, 1, 0, 1, 1, 1, 1, 1, 0, 0, 1, 0, 0, 1, 1, 1, 1, 0, 1, 0, 0,\n",
              "       1, 1, 1, 1, 0, 1, 0, 0, 1, 0, 1, 0, 0, 1, 1, 1, 0, 0, 1, 0, 0, 0,\n",
              "       1, 1, 1, 0, 1, 1, 0, 0, 1, 1, 1, 0, 0, 1, 1, 1, 1, 0, 1, 1, 0, 1,\n",
              "       1, 1, 1, 1, 1, 1, 1, 0, 0, 0, 1, 0, 0, 1, 1, 1, 0, 0, 1, 0, 1, 0,\n",
              "       0, 1, 0, 0, 1, 1, 0, 1, 1, 0, 1, 1, 1, 1, 0, 1, 1, 1, 1, 1, 1, 1,\n",
              "       1, 1, 0, 1, 1, 1, 1, 0, 0, 1, 0, 1, 1, 0, 0, 1, 1, 0, 0, 1, 1, 1,\n",
              "       1, 0, 1, 1, 0, 0, 0, 1, 0, 1, 0, 1, 1, 1, 0, 1, 1, 0, 0, 1, 0, 0,\n",
              "       0, 0, 1, 0, 0, 0, 1, 0, 1, 0, 1, 1, 0, 1, 0, 0, 0, 0, 1, 1, 0, 0,\n",
              "       1, 1, 1, 0, 1, 1, 1, 1, 1, 0, 0, 1, 1, 0, 1, 1, 0, 0, 1, 0, 1, 1,\n",
              "       1, 1, 0, 1, 1, 1, 1, 1, 0, 1, 0, 0, 0, 0, 0, 0, 0, 0, 0, 0, 0, 0,\n",
              "       0, 0, 1, 1, 1, 1, 1, 1, 0, 1, 0, 1, 1, 0, 1, 1, 0, 1, 0, 0, 1, 1,\n",
              "       1, 1, 1, 1, 1, 1, 1, 1, 1, 1, 1, 0, 1, 1, 0, 1, 0, 1, 1, 1, 1, 1,\n",
              "       1, 1, 1, 1, 1, 1, 1, 1, 1, 0, 1, 1, 1, 0, 1, 0, 1, 1, 1, 1, 0, 0,\n",
              "       0, 1, 1, 1, 1, 0, 1, 0, 1, 0, 1, 1, 1, 0, 1, 1, 1, 1, 1, 1, 1, 0,\n",
              "       0, 0, 1, 1, 1, 1, 1, 1, 1, 1, 1, 1, 1, 0, 0, 1, 0, 0, 0, 1, 0, 0,\n",
              "       1, 1, 1, 1, 1, 0, 1, 1, 1, 1, 1, 0, 1, 1, 1, 0, 1, 1, 0, 0, 1, 1,\n",
              "       1, 1, 1, 1, 0, 1, 1, 1, 1, 1, 1, 1, 0, 1, 1, 1, 1, 1, 0, 1, 1, 0,\n",
              "       1, 1, 1, 1, 1, 1, 1, 1, 1, 1, 1, 1, 0, 1, 0, 0, 1, 0, 1, 1, 1, 1,\n",
              "       1, 0, 1, 1, 0, 1, 0, 1, 1, 0, 1, 0, 1, 1, 1, 1, 1, 1, 1, 1, 0, 0,\n",
              "       1, 1, 1, 1, 1, 1, 0, 1, 1, 1, 1, 1, 1, 1, 1, 1, 1, 0, 1, 1, 1, 1,\n",
              "       1, 1, 1, 0, 1, 0, 1, 1, 0, 1, 1, 1, 1, 1, 0, 0, 1, 0, 1, 0, 1, 1,\n",
              "       1, 1, 1, 0, 1, 1, 0, 1, 0, 1, 0, 0, 1, 1, 1, 0, 1, 1, 1, 1, 1, 1,\n",
              "       1, 1, 1, 1, 1, 0, 1, 0, 0, 1, 1, 1, 1, 1, 1, 1, 1, 1, 1, 1, 1, 1,\n",
              "       1, 1, 1, 1, 1, 1, 1, 1, 1, 1, 1, 1, 0, 0, 0, 0, 0, 0, 1])"
            ]
          },
          "metadata": {},
          "execution_count": 7
        }
      ]
    },
    {
      "cell_type": "code",
      "source": [
        "# their meaning is not lost\n",
        "data.target_names"
      ],
      "metadata": {
        "colab": {
          "base_uri": "https://localhost:8080/"
        },
        "id": "fmlXp-1RAwCd",
        "outputId": "abfa1be6-a860-41b2-8793-ae0c606bcd78"
      },
      "execution_count": 8,
      "outputs": [
        {
          "output_type": "execute_result",
          "data": {
            "text/plain": [
              "array(['malignant', 'benign'], dtype='<U9')"
            ]
          },
          "metadata": {},
          "execution_count": 8
        }
      ]
    },
    {
      "cell_type": "code",
      "source": [
        "# there are also 569 corresponding targets\n",
        "data.target.shape"
      ],
      "metadata": {
        "colab": {
          "base_uri": "https://localhost:8080/"
        },
        "id": "CF8gfZp4BE2H",
        "outputId": "685b4646-2e8b-4534-a42f-31ea767f4f74"
      },
      "execution_count": 9,
      "outputs": [
        {
          "output_type": "execute_result",
          "data": {
            "text/plain": [
              "(569,)"
            ]
          },
          "metadata": {},
          "execution_count": 9
        }
      ]
    },
    {
      "cell_type": "code",
      "source": [
        "# you can also determine the meaning of each feature\n",
        "data.feature_names"
      ],
      "metadata": {
        "colab": {
          "base_uri": "https://localhost:8080/"
        },
        "id": "C_lDnjjsBM2L",
        "outputId": "edac8dd4-92ed-4367-8caa-904f411edd93"
      },
      "execution_count": 10,
      "outputs": [
        {
          "output_type": "execute_result",
          "data": {
            "text/plain": [
              "array(['mean radius', 'mean texture', 'mean perimeter', 'mean area',\n",
              "       'mean smoothness', 'mean compactness', 'mean concavity',\n",
              "       'mean concave points', 'mean symmetry', 'mean fractal dimension',\n",
              "       'radius error', 'texture error', 'perimeter error', 'area error',\n",
              "       'smoothness error', 'compactness error', 'concavity error',\n",
              "       'concave points error', 'symmetry error',\n",
              "       'fractal dimension error', 'worst radius', 'worst texture',\n",
              "       'worst perimeter', 'worst area', 'worst smoothness',\n",
              "       'worst compactness', 'worst concavity', 'worst concave points',\n",
              "       'worst symmetry', 'worst fractal dimension'], dtype='<U23')"
            ]
          },
          "metadata": {},
          "execution_count": 10
        }
      ]
    },
    {
      "cell_type": "code",
      "source": [
        "# imports should all be at the top PEP-8\n",
        "# but as we're learning, here it helps to create a story \n",
        "from sklearn.model_selection import train_test_split\n",
        "\n",
        "# split the data into train and test sets\n",
        "# this lets us simulate how our model will perform in the future\n",
        "X_train, X_test, y_train, y_test = train_test_split(data.data, data.target, test_size=0.33, random_state=42)\n",
        "N, D = X_train.shape "
      ],
      "metadata": {
        "id": "5z09UhjaFFKj"
      },
      "execution_count": 32,
      "outputs": []
    },
    {
      "cell_type": "code",
      "source": [
        "X_train.shape  # no. of samples, no. of features "
      ],
      "metadata": {
        "colab": {
          "base_uri": "https://localhost:8080/"
        },
        "id": "oDEE9iixF7iX",
        "outputId": "9c554f01-023e-40fc-a468-83937f6b6080"
      },
      "execution_count": 33,
      "outputs": [
        {
          "output_type": "execute_result",
          "data": {
            "text/plain": [
              "(381, 30)"
            ]
          },
          "metadata": {},
          "execution_count": 33
        }
      ]
    },
    {
      "cell_type": "markdown",
      "source": [
        "Why we scale the data?\n",
        "- because the output is a linear combination of the input so we don't want one input have a very larger range and another inputer a very small range\n",
        "- if this happens then the weights will be too sensitive when the input has a large range and not sensitive enough when the input has a small range\n",
        "\n",
        "SOLUTION:\n",
        "- typical way to deal with this is a normalization or standardization\n",
        "  -- subtracting the mean and dividing by the standard deviation "
      ],
      "metadata": {
        "id": "QuPRrVYgHep5"
      }
    },
    {
      "cell_type": "code",
      "source": [
        "# Scale the data\n",
        "# you'll learn why scaling is needed in a later course\n",
        "from sklearn.preprocessing import StandardScaler\n",
        "\n",
        "scaler = StandardScaler()\n",
        "X_train = scaler.fit_transform(X_train)\n",
        "X_test = scaler.transform(X_test)"
      ],
      "metadata": {
        "id": "kYEakx8nGJOD"
      },
      "execution_count": 34,
      "outputs": []
    },
    {
      "cell_type": "markdown",
      "source": [
        "# 2) Create the model\n"
      ],
      "metadata": {
        "id": "7cIhbLHCGJWj"
      }
    },
    {
      "cell_type": "code",
      "source": [
        "# Now all the fun PyTorch stuff\n",
        "# Build the model\n",
        "model = nn.Sequential(\n",
        "    nn.Linear(D, 1),\n",
        "    nn.Sigmoid() \n",
        ")"
      ],
      "metadata": {
        "id": "wABVgVFUJ9ee"
      },
      "execution_count": 35,
      "outputs": []
    },
    {
      "cell_type": "code",
      "source": [
        "# Loss and optimizer\n",
        "criterion = nn.BCELoss()\n",
        "optimizer = torch.optim.Adam(model.parameters())"
      ],
      "metadata": {
        "id": "dx-vMVALGNwJ"
      },
      "execution_count": 36,
      "outputs": []
    },
    {
      "cell_type": "code",
      "source": [
        "y_test.shape"
      ],
      "metadata": {
        "colab": {
          "base_uri": "https://localhost:8080/"
        },
        "id": "Cp49iWPXNxvz",
        "outputId": "e5311426-46b7-4c7a-83c6-cecfd92d4319"
      },
      "execution_count": 37,
      "outputs": [
        {
          "output_type": "execute_result",
          "data": {
            "text/plain": [
              "(188,)"
            ]
          },
          "metadata": {},
          "execution_count": 37
        }
      ]
    },
    {
      "cell_type": "code",
      "source": [
        "# Convert data into torch tensors\n",
        "X_train = torch.from_numpy(X_train.astype(np.float32))\n",
        "X_test = torch.from_numpy(X_test.astype(np.float32))\n",
        "y_train = torch.from_numpy(y_train.astype(np.float32).reshape(-1, 1))\n",
        "y_test = torch.from_numpy(y_test.astype(np.float32).reshape(-1, 1))"
      ],
      "metadata": {
        "id": "D0-fZRD1NYY4"
      },
      "execution_count": 38,
      "outputs": []
    },
    {
      "cell_type": "code",
      "source": [
        "y_test.shape"
      ],
      "metadata": {
        "colab": {
          "base_uri": "https://localhost:8080/"
        },
        "id": "HaAolKduN15b",
        "outputId": "8f14487e-8fe6-4ddf-fb76-c87ee84e60b7"
      },
      "execution_count": 39,
      "outputs": [
        {
          "output_type": "execute_result",
          "data": {
            "text/plain": [
              "torch.Size([188, 1])"
            ]
          },
          "metadata": {},
          "execution_count": 39
        }
      ]
    },
    {
      "cell_type": "markdown",
      "source": [
        "# 3) Train the model"
      ],
      "metadata": {
        "id": "KcAOs5mVGQEE"
      }
    },
    {
      "cell_type": "code",
      "source": [
        "# train the model\n",
        "n_epochs = 1000\n",
        "\n",
        "# stuff to store\n",
        "train_losses = np.zeros(n_epochs)\n",
        "test_losses = np.zeros(n_epochs)\n",
        "\n",
        "for it in range(n_epochs):\n",
        "  # zero the parameter gradients\n",
        "  optimizer.zero_grad()\n",
        "\n",
        "  # Forward pass\n",
        "  outputs = model(X_train)\n",
        "  loss = criterion(outputs, y_train)\n",
        "\n",
        "  # Backward and optimize\n",
        "  loss.backward()\n",
        "  optimizer.step()\n",
        "\n",
        "  # Get test loss\n",
        "  outputs_test = model(X_test)\n",
        "  loss_test = criterion(outputs_test, y_test)\n",
        "\n",
        "  # Save losses\n",
        "  train_losses[it] = loss.item()\n",
        "  test_losses[it] = loss_test.item()\n",
        "\n",
        "  if (it + 1) % 50 == 0:\n",
        "    print(f\"Epoch {it+1}/{n_epochs}, Train Loss: {loss.item():.4f}, Test Loss: {loss_test.item()}\")\n",
        "\n"
      ],
      "metadata": {
        "id": "HZJMI_fmGUnO",
        "colab": {
          "base_uri": "https://localhost:8080/"
        },
        "outputId": "ec9e3ca1-9688-4676-a52a-cd2c1f3ea7f7"
      },
      "execution_count": 40,
      "outputs": [
        {
          "output_type": "stream",
          "name": "stdout",
          "text": [
            "Epoch 50/1000, Train Loss: 0.5939, Test Loss: 0.5907420516014099\n",
            "Epoch 100/1000, Train Loss: 0.4168, Test Loss: 0.4184187352657318\n",
            "Epoch 150/1000, Train Loss: 0.3274, Test Loss: 0.3313586413860321\n",
            "Epoch 200/1000, Train Loss: 0.2744, Test Loss: 0.2789739966392517\n",
            "Epoch 250/1000, Train Loss: 0.2390, Test Loss: 0.24348928034305573\n",
            "Epoch 300/1000, Train Loss: 0.2136, Test Loss: 0.21762187778949738\n",
            "Epoch 350/1000, Train Loss: 0.1944, Test Loss: 0.19783180952072144\n",
            "Epoch 400/1000, Train Loss: 0.1794, Test Loss: 0.1821630299091339\n",
            "Epoch 450/1000, Train Loss: 0.1674, Test Loss: 0.16942976415157318\n",
            "Epoch 500/1000, Train Loss: 0.1575, Test Loss: 0.15886473655700684\n",
            "Epoch 550/1000, Train Loss: 0.1493, Test Loss: 0.1499476432800293\n",
            "Epoch 600/1000, Train Loss: 0.1423, Test Loss: 0.14231295883655548\n",
            "Epoch 650/1000, Train Loss: 0.1362, Test Loss: 0.1356964111328125\n",
            "Epoch 700/1000, Train Loss: 0.1309, Test Loss: 0.1299021691083908\n",
            "Epoch 750/1000, Train Loss: 0.1263, Test Loss: 0.12478217482566833\n",
            "Epoch 800/1000, Train Loss: 0.1222, Test Loss: 0.12022239714860916\n",
            "Epoch 850/1000, Train Loss: 0.1185, Test Loss: 0.11613360047340393\n",
            "Epoch 900/1000, Train Loss: 0.1152, Test Loss: 0.11244487762451172\n",
            "Epoch 950/1000, Train Loss: 0.1121, Test Loss: 0.10909918695688248\n",
            "Epoch 1000/1000, Train Loss: 0.1094, Test Loss: 0.10605014860630035\n"
          ]
        }
      ]
    },
    {
      "cell_type": "markdown",
      "source": [
        "if test loss was increasing- meaning we're overfitting our model"
      ],
      "metadata": {
        "id": "aU9dg8OQPVh-"
      }
    },
    {
      "cell_type": "markdown",
      "source": [
        "# 4) Evaluate the model"
      ],
      "metadata": {
        "id": "HpUK0VYNGVJ6"
      }
    },
    {
      "cell_type": "code",
      "source": [
        "# Plot the train loss and test loss per iteration\n",
        "plt.plot(train_losses, label='train loss')\n",
        "plt.plot(test_losses, label='test loss')\n",
        "plt.legend()\n",
        "plt.show()\n",
        "\n",
        "# train loss is not so different from the test loss\n",
        "# so the model isn't overfitting"
      ],
      "metadata": {
        "id": "y2NlS-5mGXcn",
        "colab": {
          "base_uri": "https://localhost:8080/",
          "height": 265
        },
        "outputId": "b3d8ec43-21d8-47be-9992-ef59426cbaae"
      },
      "execution_count": 42,
      "outputs": [
        {
          "output_type": "display_data",
          "data": {
            "image/png": "[encoded data removed]",
            "text/plain": [
              "<Figure size 432x288 with 1 Axes>"
            ]
          },
          "metadata": {
            "needs_background": "light"
          }
        }
      ]
    },
    {
      "cell_type": "code",
      "source": [
        "# Get accuracy\n",
        "with torch.no_grad():\n",
        "  p_train = model(X_train)\n",
        "  p_train = np.round(p_train.numpy())  # torch tensor to numpy, then to 0 and 1 \n",
        "  train_acc = np.mean(y_train.numpy() == p_train)\n",
        "\n",
        "  p_test = model(X_test)\n",
        "  p_test = np.round(p_test.numpy())\n",
        "  test_acc = np.mean(y_test.numpy() == p_test)\n",
        "\n",
        "print(f\"Train acc: {train_acc:.4f}, Test acc: {test_acc:.4f}\")\n"
      ],
      "metadata": {
        "colab": {
          "base_uri": "https://localhost:8080/"
        },
        "id": "pya1hoIHPu8T",
        "outputId": "ef3a4ae1-ac15-4e69-e959-5d1ca3ab5113"
      },
      "execution_count": 43,
      "outputs": [
        {
          "output_type": "stream",
          "name": "stdout",
          "text": [
            "Train acc: 0.9816, Test acc: 0.9840\n"
          ]
        }
      ]
    },
    {
      "cell_type": "markdown",
      "source": [
        "# EXERCISE:\n",
        "recording the accuracy on interation"
      ],
      "metadata": {
        "id": "o0Cwca_CV875"
      }
    },
    {
      "cell_type": "code",
      "source": [
        "# Build the model\n",
        "model = nn.Sequential(\n",
        "    nn.Linear(D, 1),\n",
        "    nn.Sigmoid() \n",
        ")\n",
        "\n",
        "criterion = nn.BCELoss()\n",
        "optimizer = torch.optim.Adam(model.parameters())"
      ],
      "metadata": {
        "id": "TNfkm8LyXdr-"
      },
      "execution_count": 48,
      "outputs": []
    },
    {
      "cell_type": "code",
      "source": [
        "# train the model\n",
        "n_epochs = 1000\n",
        "\n",
        "# stuff to store\n",
        "train_losses = np.zeros(n_epochs)\n",
        "test_losses = np.zeros(n_epochs)\n",
        "\n",
        "train_acc = np.zeros(n_epochs)\n",
        "test_acc = np.zeros(n_epochs)\n",
        "\n",
        "for it in range(n_epochs):\n",
        "  # zero the parameter gradients\n",
        "  optimizer.zero_grad()\n",
        "\n",
        "  # Forward pass\n",
        "  outputs = model(X_train)\n",
        "  loss = criterion(outputs, y_train)\n",
        "\n",
        "  # Backward and optimize\n",
        "  loss.backward()\n",
        "  optimizer.step()\n",
        "\n",
        "  # Get test loss\n",
        "  outputs_test = model(X_test)\n",
        "  loss_test = criterion(outputs_test, y_test)\n",
        "\n",
        "  # Save losses\n",
        "  train_losses[it] = loss.item()\n",
        "  test_losses[it] = loss_test.item()\n",
        "\n",
        "  # Save Accuracy\n",
        "  train_acc[it] = np.mean(np.round(outputs.detach().numpy()) == y_train.numpy())\n",
        "  test_acc[it] = np.mean(np.round(outputs_test.detach().numpy()) == y_test.numpy())\n",
        "\n",
        "  if (it + 1) % 50 == 0:\n",
        "    print(f\"Epoch {it+1}/{n_epochs}, Train Loss: {loss.item():.4f}, Test Loss: {loss_test.item()}, Train acc: {train_acc[it]:.4f}, Test acc: {test_acc[it]}\")"
      ],
      "metadata": {
        "colab": {
          "base_uri": "https://localhost:8080/"
        },
        "id": "QkMDoPK_Q3ge",
        "outputId": "e92af867-7aff-4894-a202-15dae445fbab"
      },
      "execution_count": 49,
      "outputs": [
        {
          "output_type": "stream",
          "name": "stdout",
          "text": [
            "Epoch 50/1000, Train Loss: 0.3995, Test Loss: 0.4107127785682678, Train acc: 0.8740, Test acc: 0.8776595744680851\n",
            "Epoch 100/1000, Train Loss: 0.3102, Test Loss: 0.31957828998565674, Train acc: 0.9108, Test acc: 0.9202127659574468\n",
            "Epoch 150/1000, Train Loss: 0.2567, Test Loss: 0.2645703852176666, Train acc: 0.9318, Test acc: 0.9308510638297872\n",
            "Epoch 200/1000, Train Loss: 0.2208, Test Loss: 0.2272127866744995, Train acc: 0.9449, Test acc: 0.9468085106382979\n",
            "Epoch 250/1000, Train Loss: 0.1951, Test Loss: 0.20019835233688354, Train acc: 0.9580, Test acc: 0.9521276595744681\n",
            "Epoch 300/1000, Train Loss: 0.1760, Test Loss: 0.1798364520072937, Train acc: 0.9606, Test acc: 0.9521276595744681\n",
            "Epoch 350/1000, Train Loss: 0.1612, Test Loss: 0.16397671401500702, Train acc: 0.9711, Test acc: 0.9521276595744681\n",
            "Epoch 400/1000, Train Loss: 0.1496, Test Loss: 0.15128064155578613, Train acc: 0.9738, Test acc: 0.9574468085106383\n",
            "Epoch 450/1000, Train Loss: 0.1401, Test Loss: 0.1408829540014267, Train acc: 0.9790, Test acc: 0.9627659574468085\n",
            "Epoch 500/1000, Train Loss: 0.1323, Test Loss: 0.132205531001091, Train acc: 0.9790, Test acc: 0.973404255319149\n",
            "Epoch 550/1000, Train Loss: 0.1257, Test Loss: 0.12484964728355408, Train acc: 0.9790, Test acc: 0.9840425531914894\n",
            "Epoch 600/1000, Train Loss: 0.1201, Test Loss: 0.11853241175413132, Train acc: 0.9790, Test acc: 0.9840425531914894\n",
            "Epoch 650/1000, Train Loss: 0.1152, Test Loss: 0.11304767429828644, Train acc: 0.9790, Test acc: 0.9840425531914894\n",
            "Epoch 700/1000, Train Loss: 0.1109, Test Loss: 0.10824155807495117, Train acc: 0.9790, Test acc: 0.9840425531914894\n",
            "Epoch 750/1000, Train Loss: 0.1071, Test Loss: 0.10399683564901352, Train acc: 0.9816, Test acc: 0.9840425531914894\n",
            "Epoch 800/1000, Train Loss: 0.1037, Test Loss: 0.10022250562906265, Train acc: 0.9816, Test acc: 0.9840425531914894\n",
            "Epoch 850/1000, Train Loss: 0.1007, Test Loss: 0.09684684127569199, Train acc: 0.9816, Test acc: 0.9840425531914894\n",
            "Epoch 900/1000, Train Loss: 0.0979, Test Loss: 0.09381233155727386, Train acc: 0.9816, Test acc: 0.9840425531914894\n",
            "Epoch 950/1000, Train Loss: 0.0954, Test Loss: 0.09107241779565811, Train acc: 0.9816, Test acc: 0.9840425531914894\n",
            "Epoch 1000/1000, Train Loss: 0.0931, Test Loss: 0.08858886361122131, Train acc: 0.9816, Test acc: 0.9840425531914894\n"
          ]
        }
      ]
    },
    {
      "cell_type": "code",
      "source": [
        "# plotting train and test accuracy per iteration\n",
        "\n",
        "plt.plot(train_acc, label=\"Train Accuracy\")\n",
        "plt.plot(test_acc, label=\"Test Accuracy\")\n",
        "plt.legend()\n",
        "plt.show()\n",
        "\n",
        "# Plot the train loss and test loss per iteration\n",
        "plt.plot(train_losses, label='train loss')\n",
        "plt.plot(test_losses, label='test loss')\n",
        "plt.legend()\n",
        "plt.show()\n"
      ],
      "metadata": {
        "colab": {
          "base_uri": "https://localhost:8080/",
          "height": 513
        },
        "id": "ubRsPQf4XEjl",
        "outputId": "b27a6096-6ad3-4be1-b3e4-2e4af1afecd1"
      },
      "execution_count": 56,
      "outputs": [
        {
          "output_type": "display_data",
          "data": {
            "image/png": "[encoded data removed]",
            "text/plain": [
              "<Figure size 432x288 with 1 Axes>"
            ]
          },
          "metadata": {
            "needs_background": "light"
          }
        },
        {
          "output_type": "display_data",
          "data": {
            "image/png": "[encoded data removed]",
            "text/plain": [
              "<Figure size 432x288 with 1 Axes>"
            ]
          },
          "metadata": {
            "needs_background": "light"
          }
        }
      ]
    },
    {
      "cell_type": "code",
      "source": [
        "fig, ax = plt.subplots(2, 1)\n",
        "\n",
        "ax[0].plot(train_acc, label=\"Train Accuracy\")\n",
        "ax[0].plot(test_acc, label=\"Test Accuracy\")\n",
        "\n",
        "# Plot the train loss and test loss per iteration\n",
        "ax[1].plot(train_losses, label='train loss')\n",
        "ax[1].plot(test_losses, label='test loss')\n",
        "plt.legend()\n",
        "plt.show()\n"
      ],
      "metadata": {
        "colab": {
          "base_uri": "https://localhost:8080/",
          "height": 265
        },
        "id": "4nRcuOGNXYKk",
        "outputId": "1394d3c0-2da4-4c56-a29a-5a9876a357df"
      },
      "execution_count": 54,
      "outputs": [
        {
          "output_type": "display_data",
          "data": {
            "image/png": "[encoded data removed]",
            "text/plain": [
              "<Figure size 432x288 with 2 Axes>"
            ]
          },
          "metadata": {
            "needs_background": "light"
          }
        }
      ]
    },
    {
      "cell_type": "markdown",
      "source": [
        "# Save and Load Model"
      ],
      "metadata": {
        "id": "h-GZJDM7bBYI"
      }
    },
    {
      "cell_type": "code",
      "source": [
        "# look at the state dict\n",
        "model.state_dict()"
      ],
      "metadata": {
        "colab": {
          "base_uri": "https://localhost:8080/"
        },
        "id": "METgM_pUYimX",
        "outputId": "7f1fcb36-db07-452d-f844-e71fbb551d2b"
      },
      "execution_count": 57,
      "outputs": [
        {
          "output_type": "execute_result",
          "data": {
            "text/plain": [
              "OrderedDict([('0.weight',\n",
              "              tensor([[-0.5134, -0.4045, -0.3889, -0.3437, -0.1074, -0.1694, -0.5398, -0.4125,\n",
              "                       -0.0236,  0.3230, -0.4369, -0.1178, -0.2329, -0.3977, -0.0826,  0.2278,\n",
              "                        0.1232, -0.2903,  0.3555,  0.3751, -0.2314, -0.4372, -0.4416, -0.4815,\n",
              "                       -0.4950, -0.0875, -0.4749, -0.2425, -0.6626, -0.1340]])),\n",
              "             ('0.bias', tensor([0.3232]))])"
            ]
          },
          "metadata": {},
          "execution_count": 57
        }
      ]
    },
    {
      "cell_type": "code",
      "source": [
        "# save the model\n",
        "torch.save(model.state_dict(), 'mymodel.pt')"
      ],
      "metadata": {
        "id": "80dgbwK1bGau"
      },
      "execution_count": 60,
      "outputs": []
    },
    {
      "cell_type": "code",
      "source": [
        "!ls"
      ],
      "metadata": {
        "colab": {
          "base_uri": "https://localhost:8080/"
        },
        "id": "tBHubPVmbJNM",
        "outputId": "3b291337-9db4-4ebb-8ee3-3c662fc8c300"
      },
      "execution_count": 61,
      "outputs": [
        {
          "output_type": "stream",
          "name": "stdout",
          "text": [
            "mymodel.pt  sample_data\n"
          ]
        }
      ]
    },
    {
      "cell_type": "code",
      "source": [
        "# Load the model\n",
        "# Note: this makes more sense and is more compact when\n",
        "# your model is a big class, as we will be seeing later \n",
        "model2 = nn.Sequential(\n",
        "    nn.Linear(D, 1),\n",
        "    nn.Sigmoid()\n",
        ")\n",
        "model2.load_state_dict(torch.load('mymodel.pt'))"
      ],
      "metadata": {
        "colab": {
          "base_uri": "https://localhost:8080/"
        },
        "id": "kwMC4BkAbdV6",
        "outputId": "77a4bb35-a1b0-4e84-e321-3505896fed19"
      },
      "execution_count": 62,
      "outputs": [
        {
          "output_type": "execute_result",
          "data": {
            "text/plain": [
              "<All keys matched successfully>"
            ]
          },
          "metadata": {},
          "execution_count": 62
        }
      ]
    },
    {
      "cell_type": "code",
      "source": [
        "# Evaluate the new model\n",
        "# Results will be the same\n",
        "with torch.no_grad():\n",
        "  p_train = model2(X_train)\n",
        "  p_train = np.round(p_train.numpy())  # torch tensor to numpy, then to 0 and 1 \n",
        "  train_acc = np.mean(y_train.numpy() == p_train)\n",
        "\n",
        "  p_test = model2(X_test)\n",
        "  p_test = np.round(p_test.numpy())\n",
        "  test_acc = np.mean(y_test.numpy() == p_test)\n",
        "\n",
        "print(f\"Train acc: {train_acc:.4f}, Test acc: {test_acc:.4f}\")"
      ],
      "metadata": {
        "colab": {
          "base_uri": "https://localhost:8080/"
        },
        "id": "CWWCeBweb3jk",
        "outputId": "3c9b19e2-db2b-45f9-90f4-d1e3f18fa96a"
      },
      "execution_count": 63,
      "outputs": [
        {
          "output_type": "stream",
          "name": "stdout",
          "text": [
            "Train acc: 0.9816, Test acc: 0.9840\n"
          ]
        }
      ]
    },
    {
      "cell_type": "code",
      "source": [
        "# Download the model\n",
        "from google.colab import files\n",
        "files.download('mymodel.pt')"
      ],
      "metadata": {
        "colab": {
          "base_uri": "https://localhost:8080/",
          "height": 17
        },
        "id": "bT_p376HcI7L",
        "outputId": "fc4b6c45-0be8-405e-ae57-b483a7805e31"
      },
      "execution_count": 64,
      "outputs": [
        {
          "output_type": "display_data",
          "data": {
            "application/javascript": [
              "\n",
              "    async function download(id, filename, size) {\n",
              "      if (!google.colab.kernel.accessAllowed) {\n",
              "        return;\n",
              "      }\n",
              "      const div = document.createElement('div');\n",
              "      const label = document.createElement('label');\n",
              "      label.textContent = `Downloading \"${filename}\": `;\n",
              "      div.appendChild(label);\n",
              "      const progress = document.createElement('progress');\n",
              "      progress.max = size;\n",
              "      div.appendChild(progress);\n",
              "      document.body.appendChild(div);\n",
              "\n",
              "      const buffers = [];\n",
              "      let downloaded = 0;\n",
              "\n",
              "      const channel = await google.colab.kernel.comms.open(id);\n",
              "      // Send a message to notify the kernel that we're ready.\n",
              "      channel.send({})\n",
              "\n",
              "      for await (const message of channel.messages) {\n",
              "        // Send a message to notify the kernel that we're ready.\n",
              "        channel.send({})\n",
              "        if (message.buffers) {\n",
              "          for (const buffer of message.buffers) {\n",
              "            buffers.push(buffer);\n",
              "            downloaded += buffer.byteLength;\n",
              "            progress.value = downloaded;\n",
              "          }\n",
              "        }\n",
              "      }\n",
              "      const blob = new Blob(buffers, {type: 'application/binary'});\n",
              "      const a = document.createElement('a');\n",
              "      a.href = window.URL.createObjectURL(blob);\n",
              "      a.download = filename;\n",
              "      div.appendChild(a);\n",
              "      a.click();\n",
              "      div.remove();\n",
              "    }\n",
              "  "
            ],
            "text/plain": [
              "<IPython.core.display.Javascript object>"
            ]
          },
          "metadata": {}
        },
        {
          "output_type": "display_data",
          "data": {
            "application/javascript": [
              "download(\"download_1ec12f39-f0ca-47d1-9e33-e90c2401c96e\", \"mymodel.pt\", 1191)"
            ],
            "text/plain": [
              "<IPython.core.display.Javascript object>"
            ]
          },
          "metadata": {}
        }
      ]
    },
    {
      "cell_type": "code",
      "source": [
        ""
      ],
      "metadata": {
        "id": "F1qqjifBcoGF"
      },
      "execution_count": null,
      "outputs": []
    }
  ]
}