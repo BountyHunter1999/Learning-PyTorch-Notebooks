{
  "nbformat": 4,
  "nbformat_minor": 0,
  "metadata": {
    "colab": {
      "name": "1. Pytorch Linear Regression.ipynb",
      "provenance": [],
      "authorship_tag": "ABX9TyO2HCW11xG3P+KBjmcTOPim",
      "include_colab_link": true
    },
    "kernelspec": {
      "name": "python3",
      "display_name": "Python 3"
    },
    "language_info": {
      "name": "python"
    }
  },
  "cells": [
    {
      "cell_type": "markdown",
      "metadata": {
        "id": "view-in-github",
        "colab_type": "text"
      },
      "source": [
        "<a href=\"https://colab.research.google.com/github/BountyHunter1999/Learning-PyTorch-Notebooks/blob/main/1_Pytorch_Linear_Regression.ipynb\" target=\"_parent\"><img src=\"https://colab.research.google.com/assets/colab-badge.svg\" alt=\"Open In Colab\"/></a>"
      ]
    },
    {
      "cell_type": "code",
      "execution_count": 1,
      "metadata": {
        "id": "p5JoMh0a9c04"
      },
      "outputs": [],
      "source": [
        "import torch\n",
        "import torch.nn as nn\n",
        "import numpy as np\n",
        "import matplotlib.pyplot as plt"
      ]
    },
    {
      "cell_type": "code",
      "source": [
        ""
      ],
      "metadata": {
        "id": "oLvMWxh19-yl"
      },
      "execution_count": 7,
      "outputs": []
    },
    {
      "cell_type": "code",
      "source": [
        "np.random.random(20) # random value betn 0 and 1 "
      ],
      "metadata": {
        "colab": {
          "base_uri": "https://localhost:8080/"
        },
        "id": "FwboSPj-90Fz",
        "outputId": "846bb2c5-1f19-44ca-e8f5-fb0e2ff2e838"
      },
      "execution_count": 6,
      "outputs": [
        {
          "output_type": "execute_result",
          "data": {
            "text/plain": [
              "array([0.13829008, 0.64607288, 0.31573866, 0.85387119, 0.28457235,\n",
              "       0.52391936, 0.9051696 , 0.84254501, 0.68757721, 0.3780713 ,\n",
              "       0.43992458, 0.7700165 , 0.13716971, 0.12737483, 0.00140769,\n",
              "       0.44724824, 0.33593727, 0.19085076, 0.6909983 , 0.1646405 ])"
            ]
          },
          "metadata": {},
          "execution_count": 6
        }
      ]
    },
    {
      "cell_type": "code",
      "source": [
        "# we would like to generate 20 data points\n",
        "N = 20\n",
        "\n",
        "# random data on the x-axix in (-5, 5)\n",
        "X = np.random.random(N) * 10 -5 \n",
        "\n",
        "# a line plus some noise\n",
        "# when we introduce gaussian noise the MSE becomes the correct error function to use\n",
        "Y = 0.5 * X - 1 + np.random.randn(N)\n"
      ],
      "metadata": {
        "id": "3MBfRqGK9nQq"
      },
      "execution_count": 17,
      "outputs": []
    },
    {
      "cell_type": "code",
      "source": [
        "plt.scatter(X, Y)"
      ],
      "metadata": {
        "colab": {
          "base_uri": "https://localhost:8080/",
          "height": 282
        },
        "id": "OktWfLJC_cWU",
        "outputId": "0984135a-f4cd-4719-b8f0-cd260d47230f"
      },
      "execution_count": 9,
      "outputs": [
        {
          "output_type": "execute_result",
          "data": {
            "text/plain": [
              "<matplotlib.collections.PathCollection at 0x7f3e3c5bacd0>"
            ]
          },
          "metadata": {},
          "execution_count": 9
        },
        {
          "output_type": "display_data",
          "data": {
            "image/png": "[encoded data removed]",
            "text/plain": [
              "<Figure size 432x288 with 1 Axes>"
            ]
          },
          "metadata": {
            "needs_background": "light"
          }
        }
      ]
    },
    {
      "cell_type": "code",
      "source": [
        "# Create the linear regression model\n",
        "model = nn.Linear(1, 1) # 1 input and 1 output\n",
        " \n",
        "# loss and optimizer\n",
        "criterion = nn.MSELoss()\n",
        "optimizer = torch.optim.SGD(model.parameters(), lr=0.1)"
      ],
      "metadata": {
        "id": "cTxjiEHQ_faj"
      },
      "execution_count": 22,
      "outputs": []
    },
    {
      "cell_type": "code",
      "source": [
        "list(model.parameters()) # m and b"
      ],
      "metadata": {
        "colab": {
          "base_uri": "https://localhost:8080/"
        },
        "id": "Sh9XeW7dCChf",
        "outputId": "9f641dac-fba8-48e8-a2f9-dab9b918c560"
      },
      "execution_count": 15,
      "outputs": [
        {
          "output_type": "execute_result",
          "data": {
            "text/plain": [
              "[Parameter containing:\n",
              " tensor([[-0.0864]], requires_grad=True), Parameter containing:\n",
              " tensor([-0.1283], requires_grad=True)]"
            ]
          },
          "metadata": {},
          "execution_count": 15
        }
      ]
    },
    {
      "cell_type": "code",
      "source": [
        "# In ML we want our data to be of shape:\n",
        "# (num_samples X num_dimensions)\n",
        "X = X.reshape(N, 1)\n",
        "Y = Y.reshape(N, 1)\n",
        "\n",
        "# Pytorch uses float32 by default\n",
        "# Numpy creates float64 by default\n",
        "inputs = torch.from_numpy(X.astype(np.float32))\n",
        "targets = torch.from_numpy(Y.astype(np.float32))"
      ],
      "metadata": {
        "id": "ug6b9m1YCI6z"
      },
      "execution_count": 19,
      "outputs": []
    },
    {
      "cell_type": "code",
      "source": [
        "type(inputs)"
      ],
      "metadata": {
        "colab": {
          "base_uri": "https://localhost:8080/"
        },
        "id": "KEq0yyJbCapR",
        "outputId": "fd909e0c-da33-4a1c-c7bc-8145aba92b37"
      },
      "execution_count": 20,
      "outputs": [
        {
          "output_type": "execute_result",
          "data": {
            "text/plain": [
              "torch.Tensor"
            ]
          },
          "metadata": {},
          "execution_count": 20
        }
      ]
    },
    {
      "cell_type": "code",
      "source": [
        "# Train the model\n",
        "n_epochs = 30\n",
        "losses = []\n",
        "for it in range(n_epochs):\n",
        "  # zero the parameter gradients\n",
        "  optimizer.zero_grad()\n",
        "\n",
        "  # Forward pass\n",
        "  outputs = model(inputs)\n",
        "  loss = criterion(outputs, targets)\n",
        "\n",
        "  # keep the loss so we can plot it later\n",
        "  # loss is a single python number and not a np array\n",
        "  # so when the tensor is a single number and we want to bring\n",
        "  # it back to python land we use item()\n",
        "  losses.append(loss.item())  # item() method extracts the loss’s value as a Python float.\n",
        "\n",
        "  # backward and optimize\n",
        "  loss.backward()\n",
        "  optimizer.step()\n",
        "\n",
        "  print(f\"Epoch {it + 1}/{n_epochs}, Loss: {loss.item():.4f}\")"
      ],
      "metadata": {
        "colab": {
          "base_uri": "https://localhost:8080/"
        },
        "id": "RR6L0M9YC4K-",
        "outputId": "0d95bb7c-be0a-44bd-86ec-e86b71d3e1dd"
      },
      "execution_count": 23,
      "outputs": [
        {
          "output_type": "stream",
          "name": "stdout",
          "text": [
            "Epoch 1/30, Loss: 4.7613\n",
            "Epoch 2/30, Loss: 3.1058\n",
            "Epoch 3/30, Loss: 2.2576\n",
            "Epoch 4/30, Loss: 1.7110\n",
            "Epoch 5/30, Loss: 1.3497\n",
            "Epoch 6/30, Loss: 1.1103\n",
            "Epoch 7/30, Loss: 0.9516\n",
            "Epoch 8/30, Loss: 0.8464\n",
            "Epoch 9/30, Loss: 0.7767\n",
            "Epoch 10/30, Loss: 0.7305\n",
            "Epoch 11/30, Loss: 0.6999\n",
            "Epoch 12/30, Loss: 0.6796\n",
            "Epoch 13/30, Loss: 0.6661\n",
            "Epoch 14/30, Loss: 0.6572\n",
            "Epoch 15/30, Loss: 0.6513\n",
            "Epoch 16/30, Loss: 0.6474\n",
            "Epoch 17/30, Loss: 0.6448\n",
            "Epoch 18/30, Loss: 0.6431\n",
            "Epoch 19/30, Loss: 0.6419\n",
            "Epoch 20/30, Loss: 0.6412\n",
            "Epoch 21/30, Loss: 0.6407\n",
            "Epoch 22/30, Loss: 0.6403\n",
            "Epoch 23/30, Loss: 0.6401\n",
            "Epoch 24/30, Loss: 0.6400\n",
            "Epoch 25/30, Loss: 0.6399\n",
            "Epoch 26/30, Loss: 0.6398\n",
            "Epoch 27/30, Loss: 0.6398\n",
            "Epoch 28/30, Loss: 0.6397\n",
            "Epoch 29/30, Loss: 0.6397\n",
            "Epoch 30/30, Loss: 0.6397\n"
          ]
        }
      ]
    },
    {
      "cell_type": "code",
      "source": [
        "# plot the loss per iteration\n",
        "plt.plot(losses)"
      ],
      "metadata": {
        "colab": {
          "base_uri": "https://localhost:8080/",
          "height": 282
        },
        "id": "E6vH1ItQELPi",
        "outputId": "6ed37ac1-5fc8-4ce2-e8cf-35469131b0de"
      },
      "execution_count": 24,
      "outputs": [
        {
          "output_type": "execute_result",
          "data": {
            "text/plain": [
              "[<matplotlib.lines.Line2D at 0x7f3e3be55c50>]"
            ]
          },
          "metadata": {},
          "execution_count": 24
        },
        {
          "output_type": "display_data",
          "data": {
            "image/png": "[encoded data removed]",
            "text/plain": [
              "<Figure size 432x288 with 1 Axes>"
            ]
          },
          "metadata": {
            "needs_background": "light"
          }
        }
      ]
    },
    {
      "cell_type": "code",
      "source": [
        "# Plot the graph\n",
        "predicted = model(inputs).detach().numpy()\n",
        "plt.scatter(X, Y, label='Original Data')\n",
        "plt.plot(X, predicted, label='Fitted Line')\n",
        "plt.legend()\n",
        "plt.show()"
      ],
      "metadata": {
        "colab": {
          "base_uri": "https://localhost:8080/",
          "height": 268
        },
        "id": "Rf-lJ0JpFWFW",
        "outputId": "ba84e384-d199-4ed9-b4cc-7ae6d8d51356"
      },
      "execution_count": 25,
      "outputs": [
        {
          "output_type": "display_data",
          "data": {
            "image/png": "[encoded data removed]",
            "text/plain": [
              "<Figure size 432x288 with 1 Axes>"
            ]
          },
          "metadata": {
            "needs_background": "light"
          }
        }
      ]
    },
    {
      "cell_type": "code",
      "source": [
        "model(inputs).numpy()"
      ],
      "metadata": {
        "colab": {
          "base_uri": "https://localhost:8080/",
          "height": 165
        },
        "id": "EzxfnHt3GFLu",
        "outputId": "ac7d900d-d88e-4c47-99e9-3fb3a78c563a"
      },
      "execution_count": 26,
      "outputs": [
        {
          "output_type": "error",
          "ename": "RuntimeError",
          "evalue": "ignored",
          "traceback": [
            "\u001b[0;31m---------------------------------------------------------------------------\u001b[0m",
            "\u001b[0;31mRuntimeError\u001b[0m                              Traceback (most recent call last)",
            "\u001b[0;32m<ipython-input-26-4ec109debb8c>\u001b[0m in \u001b[0;36m<module>\u001b[0;34m()\u001b[0m\n\u001b[0;32m----> 1\u001b[0;31m \u001b[0mmodel\u001b[0m\u001b[0;34m(\u001b[0m\u001b[0minputs\u001b[0m\u001b[0;34m)\u001b[0m\u001b[0;34m.\u001b[0m\u001b[0mnumpy\u001b[0m\u001b[0;34m(\u001b[0m\u001b[0;34m)\u001b[0m\u001b[0;34m\u001b[0m\u001b[0;34m\u001b[0m\u001b[0m\n\u001b[0m",
            "\u001b[0;31mRuntimeError\u001b[0m: Can't call numpy() on Tensor that requires grad. Use tensor.detach().numpy() instead."
          ]
        }
      ]
    },
    {
      "cell_type": "code",
      "source": [
        "# Another way taking hint from the error\n",
        "with torch.no_grad():\n",
        "  out = model(inputs).numpy()\n",
        "\n",
        "plt.scatter(X, Y, label='Original Data')\n",
        "plt.plot(X, out, label='Predicted Line')\n",
        "plt.legend()\n",
        "plt.show()"
      ],
      "metadata": {
        "colab": {
          "base_uri": "https://localhost:8080/",
          "height": 268
        },
        "id": "hV9CDXTIFwAn",
        "outputId": "982b2854-912a-43ef-89e2-6e6ee8634988"
      },
      "execution_count": 28,
      "outputs": [
        {
          "output_type": "display_data",
          "data": {
            "image/png": "[encoded data removed]",
            "text/plain": [
              "<Figure size 432x288 with 1 Axes>"
            ]
          },
          "metadata": {
            "needs_background": "light"
          }
        }
      ]
    },
    {
      "cell_type": "code",
      "source": [
        "model.weight.data"
      ],
      "metadata": {
        "colab": {
          "base_uri": "https://localhost:8080/"
        },
        "id": "Min4zDx6G80B",
        "outputId": "1a394622-20c4-4da3-ff3a-ed36df028850"
      },
      "execution_count": 32,
      "outputs": [
        {
          "output_type": "execute_result",
          "data": {
            "text/plain": [
              "tensor([[0.5434]])"
            ]
          },
          "metadata": {},
          "execution_count": 32
        }
      ]
    },
    {
      "cell_type": "code",
      "source": [
        "# Important:\n",
        "# In order to test the efficacy of our model, synthetic data is useful\n",
        "\n",
        "w = model.weight.data.numpy()\n",
        "b = model.bias.data.numpy()\n",
        "print(w, b)"
      ],
      "metadata": {
        "colab": {
          "base_uri": "https://localhost:8080/"
        },
        "id": "MbRy16B2Gc7l",
        "outputId": "6b921598-6ff0-4e8a-a72c-4d292a477f52"
      },
      "execution_count": 29,
      "outputs": [
        {
          "output_type": "stream",
          "name": "stdout",
          "text": [
            "[[0.54339993]] [-1.0985274]\n"
          ]
        }
      ]
    },
    {
      "cell_type": "code",
      "source": [
        ""
      ],
      "metadata": {
        "id": "THGhlEHMGz6Q"
      },
      "execution_count": null,
      "outputs": []
    }
  ]
}